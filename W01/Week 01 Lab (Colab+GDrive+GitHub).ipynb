{
  "nbformat": 4,
  "nbformat_minor": 0,
  "metadata": {
    "colab": {
      "name": "Week 01 Lab (Colab+GDrive+GitHub).ipynb",
      "provenance": [],
      "collapsed_sections": [],
      "toc_visible": true
    },
    "kernelspec": {
      "name": "python3",
      "display_name": "Python 3"
    }
  },
  "cells": [
    {
      "cell_type": "markdown",
      "metadata": {
        "id": "jl_tz5uVbYo6",
        "colab_type": "text"
      },
      "source": [
        "# Week 01 Lab. Setting up your development environment"
      ]
    },
    {
      "cell_type": "markdown",
      "metadata": {
        "id": "8j24YZaFbml0",
        "colab_type": "text"
      },
      "source": [
        "- Course: Z604 Music Data Mining \n",
        "- Instructor: Kahyun Choi"
      ]
    },
    {
      "cell_type": "markdown",
      "metadata": {
        "id": "IpNlhtnAally",
        "colab_type": "text"
      },
      "source": [
        "### Instructions\n",
        "\n",
        "\n",
        "\n",
        "* The purpose of this lab task is to help you set up your development environment. \n",
        "* For your labs, assignments, and project, you will use Google Colab (a free Jupiter notebook environment that runs in the cloud),  Google Drive, and Github.\n",
        "Download this week's lab notebook\n",
        "* The lab task has the following nine steps:\n",
        "  * Step 1. Login to your Google Drive and Github\n",
        "  * Step 2. Create a Colab notebook and play with it briefly\n",
        "  * Step 3. Upload this week's lab notebook to your Google Drive and open it using Google Colab\n",
        "  * Step 4. Mount your Google Drive to your Colab\n",
        "  * Step 5. Fork handson-ml2 repository\n",
        "  * Step 6. Generate your GitHub Access Token\n",
        "  * Step 7. Generate GIT_PATH to handson-ml2 repository\n",
        "  * Step 8. Clone the repository to your Google Drive\n",
        "  * Step 9. Open tools_numpy.ipynb and run the codes there to see if the development environment has been set up well\n",
        "* No submission\n",
        "\n",
        "\n",
        "\n",
        "\n",
        "\n"
      ]
    },
    {
      "cell_type": "markdown",
      "metadata": {
        "id": "j_ysAdaTbLhY",
        "colab_type": "text"
      },
      "source": [
        "## Step 1. Login to your Google Drive and Github"
      ]
    },
    {
      "cell_type": "markdown",
      "metadata": {
        "id": "VRuG0Gi2b3Ey",
        "colab_type": "text"
      },
      "source": [
        "## Step 2. Create a Colab notebook on your Google Drive and play with it briefly"
      ]
    },
    {
      "cell_type": "markdown",
      "metadata": {
        "id": "iG-ZoBbyb8pm",
        "colab_type": "text"
      },
      "source": [
        "## Step 3. Upload this week's lab notebook to your Google Drive and open it using Google Colab"
      ]
    },
    {
      "cell_type": "markdown",
      "metadata": {
        "id": "Y7c_tT_LcAn6",
        "colab_type": "text"
      },
      "source": [
        "## Step 4. Mount your Google Drive to your Colab"
      ]
    },
    {
      "cell_type": "markdown",
      "metadata": {
        "id": "mjj8Nd63bdbU",
        "colab_type": "text"
      },
      "source": [
        "You can mount your Google Drive by running the following code snippet.\n",
        "\n",
        "After running it, follow the direction. It will ask you to click the URL and enter your authorization code.\n",
        "\n",
        "Reference: https://towardsdatascience.com/getting-started-with-google-colab-f2fff97f594c"
      ]
    },
    {
      "cell_type": "code",
      "metadata": {
        "id": "H05qQEsd4gqU",
        "colab_type": "code",
        "colab": {}
      },
      "source": [
        "from google.colab import drive\n",
        "drive.mount('/content/gdrive')"
      ],
      "execution_count": 0,
      "outputs": []
    },
    {
      "cell_type": "markdown",
      "metadata": {
        "id": "EFrT17l3cgw0",
        "colab_type": "text"
      },
      "source": [
        "Using %cd command, go to your colab notebook directory. The path to mine is \"/content/gdrive/My Drive/Colab Notebooks\""
      ]
    },
    {
      "cell_type": "code",
      "metadata": {
        "id": "D-5hRGc-H9eX",
        "colab_type": "code",
        "colab": {}
      },
      "source": [
        "%cd \"/content/gdrive/My Drive/Colab Notebooks\""
      ],
      "execution_count": 0,
      "outputs": []
    },
    {
      "cell_type": "markdown",
      "metadata": {
        "id": "c1V90susc6n9",
        "colab_type": "text"
      },
      "source": [
        "Check your current directory using %pwd to see if you are in the right place."
      ]
    },
    {
      "cell_type": "code",
      "metadata": {
        "id": "CvOCLlVnc_k4",
        "colab_type": "code",
        "colab": {}
      },
      "source": [
        "%pwd"
      ],
      "execution_count": 0,
      "outputs": []
    },
    {
      "cell_type": "markdown",
      "metadata": {
        "id": "YeA-Jgx0f9ZH",
        "colab_type": "text"
      },
      "source": [
        "## Step 5. Fork handson-ml2 repository"
      ]
    },
    {
      "cell_type": "markdown",
      "metadata": {
        "id": "w4uewYfigICK",
        "colab_type": "text"
      },
      "source": [
        "Go to the handson-ml2 repository and fork it.\n",
        "\n",
        "The url: https://github.com/ageron/handson-ml2"
      ]
    },
    {
      "cell_type": "markdown",
      "metadata": {
        "id": "Q0s-LNBreebk",
        "colab_type": "text"
      },
      "source": [
        "## Step 6. Generate your GitHub Access Token"
      ]
    },
    {
      "cell_type": "markdown",
      "metadata": {
        "id": "c2iuWRaGejIg",
        "colab_type": "text"
      },
      "source": [
        "Go to user GitHub profile at the top right corner → click on setting → choose developer settings -> select Personal access tokens -> click on Generate new token (check repo at this moment)\n",
        "\n",
        "Reference: https://towardsdatascience.com/google-drive-google-colab-github-dont-just-read-do-it-5554d5824228"
      ]
    },
    {
      "cell_type": "markdown",
      "metadata": {
        "id": "yabHcn3Kizq7",
        "colab_type": "text"
      },
      "source": [
        "### Step 7. Generate GIT_PATH to handson-ml2 repository"
      ]
    },
    {
      "cell_type": "markdown",
      "metadata": {
        "id": "GPljB-G6LId8",
        "colab_type": "text"
      },
      "source": [
        "To clone the repository, you need to generate GIT_PATH first. \n",
        "\n",
        "After adding proper values to the first five variables and run the following code snippet.\n",
        "\n"
      ]
    },
    {
      "cell_type": "code",
      "metadata": {
        "id": "1WG9oPJb78Mm",
        "colab_type": "code",
        "colab": {}
      },
      "source": [
        "# replace with the path to your project on Google Drive\n",
        "MY_GOOGLE_DRIVE_PATH = '/My Drive/Colab Notebooks/handson-ml2' \n",
        "# replace with your Github username \n",
        "GIT_USERNAME = \"kc82\" \n",
        "# replace with your\n",
        "GIT_TOKEN = \"\"  \n",
        "# Replace with your github repository if it is not \"handson-ml2\"\n",
        "GIT_REPOSITORY = \"handson-ml2\" \n",
        "# Replace with your project path if it is different from mine\n",
        "PROJECT_PATH = '/content/gdrive/My Drive/Colab Notebooks/handson-ml2'\n",
        "\n",
        "print(\"PROJECT_PATH: \", PROJECT_PATH)   \n",
        "\n",
        "# In case we haven't created the folder already; we will create a folder in the project path \n",
        "!mkdir \"{PROJECT_PATH}\"    \n",
        "\n",
        "#GIT_PATH = \"https://{GIT_TOKEN}@github.com/{GIT_USERNAME}/{GIT_REPOSITORY}.git\" this return 400 Bad Request for me\n",
        "GIT_PATH = \"https://\" + GIT_TOKEN + \"@github.com/\" + GIT_USERNAME + \"/\" + GIT_REPOSITORY + \".git\"\n",
        "print(\"GIT_PATH: \", GIT_PATH)"
      ],
      "execution_count": 0,
      "outputs": []
    },
    {
      "cell_type": "markdown",
      "metadata": {
        "id": "W-2AHVmOi6dN",
        "colab_type": "text"
      },
      "source": [
        "### Step 8. Clone the repository to your Google Drive"
      ]
    },
    {
      "cell_type": "markdown",
      "metadata": {
        "id": "2D7otJmzhLug",
        "colab_type": "text"
      },
      "source": [
        "Clone the textbook repository to your Google Drive"
      ]
    },
    {
      "cell_type": "code",
      "metadata": {
        "id": "SJjGiKPxPSC_",
        "colab_type": "code",
        "colab": {}
      },
      "source": [
        "%cd '/content/gdrive/My Drive/Colab Notebooks/handson-ml2'    # Change directory to the location defined in project_path\n",
        "!git clone \"{GIT_PATH}\" # clone the github repository"
      ],
      "execution_count": 0,
      "outputs": []
    },
    {
      "cell_type": "markdown",
      "metadata": {
        "id": "IMqYMbe9jBTT",
        "colab_type": "text"
      },
      "source": [
        "Go to the your repository directory using %cd command and check out all the files and directories in the folder by using %ls"
      ]
    },
    {
      "cell_type": "code",
      "metadata": {
        "id": "0FpO5l2XPWqH",
        "colab_type": "code",
        "colab": {}
      },
      "source": [
        "%cd '/content/gdrive/My Drive/Colab Notebooks/handson-ml2'\n",
        "%ls"
      ],
      "execution_count": 0,
      "outputs": []
    },
    {
      "cell_type": "markdown",
      "metadata": {
        "id": "8y3w60G2jkKg",
        "colab_type": "text"
      },
      "source": [
        "### Step 9. Open tools_numpy.ipynb and run the codes there to see if the development environment has been set up well"
      ]
    },
    {
      "cell_type": "code",
      "metadata": {
        "id": "usFnaIOyjlvH",
        "colab_type": "code",
        "colab": {}
      },
      "source": [
        ""
      ],
      "execution_count": 0,
      "outputs": []
    }
  ]
}